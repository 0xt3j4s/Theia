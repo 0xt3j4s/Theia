{
 "cells": [
  {
   "cell_type": "code",
   "execution_count": null,
   "id": "89bd3146",
   "metadata": {},
   "outputs": [],
   "source": [
    "pip install numpy pandas sklearn joblib"
   ]
  },
  {
   "cell_type": "code",
   "execution_count": null,
   "id": "89ead2de",
   "metadata": {},
   "outputs": [],
   "source": [
    "a = np.zeros(5)\n",
    "print(a)"
   ]
  }
 ],
 "metadata": {
  "kernelspec": {
   "display_name": "venv",
   "language": "python",
   "name": "venv"
  },
  "language_info": {
   "codemirror_mode": {
    "name": "ipython",
    "version": 3
   },
   "file_extension": ".py",
   "mimetype": "text/x-python",
   "name": "python",
   "nbconvert_exporter": "python",
   "pygments_lexer": "ipython3",
   "version": "3.10.1"
  }
 },
 "nbformat": 4,
 "nbformat_minor": 5
}
