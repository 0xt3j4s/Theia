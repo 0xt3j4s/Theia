{
 "cells": [
  {
   "cell_type": "code",
   "execution_count": 8,
   "id": "84621da8",
   "metadata": {},
   "outputs": [
    {
     "name": "stdout",
     "output_type": "stream",
     "text": [
      "Requirement already satisfied: numpy in c:\\users\\tejas\\appdata\\local\\programs\\python\\python310\\lib\\site-packages (1.21.5)\n",
      "Requirement already satisfied: pandas in c:\\users\\tejas\\appdata\\local\\programs\\python\\python310\\lib\\site-packages (1.3.5)\n",
      "Requirement already satisfied: sklearn in c:\\users\\tejas\\appdata\\local\\programs\\python\\python310\\lib\\site-packages (0.0)\n",
      "Requirement already satisfied: joblib in c:\\users\\tejas\\appdata\\local\\programs\\python\\python310\\lib\\site-packages (1.1.0)\n",
      "Requirement already satisfied: python-dateutil>=2.7.3 in c:\\users\\tejas\\appdata\\local\\programs\\python\\python310\\lib\\site-packages (from pandas) (2.8.2)\n",
      "Requirement already satisfied: pytz>=2017.3 in c:\\users\\tejas\\appdata\\local\\programs\\python\\python310\\lib\\site-packages (from pandas) (2021.3)\n",
      "Requirement already satisfied: scikit-learn in c:\\users\\tejas\\appdata\\local\\programs\\python\\python310\\lib\\site-packages (from sklearn) (1.0.2)\n",
      "Requirement already satisfied: six>=1.5 in c:\\users\\tejas\\appdata\\local\\programs\\python\\python310\\lib\\site-packages (from python-dateutil>=2.7.3->pandas) (1.16.0)\n",
      "Requirement already satisfied: scipy>=1.1.0 in c:\\users\\tejas\\appdata\\local\\programs\\python\\python310\\lib\\site-packages (from scikit-learn->sklearn) (1.8.0)\n",
      "Requirement already satisfied: threadpoolctl>=2.0.0 in c:\\users\\tejas\\appdata\\local\\programs\\python\\python310\\lib\\site-packages (from scikit-learn->sklearn) (3.1.0)\n",
      "Note: you may need to restart the kernel to use updated packages.\n"
     ]
    }
   ],
   "source": [
    "pip install numpy pandas sklearn joblib"
   ]
  },
  {
   "cell_type": "code",
   "execution_count": 12,
   "id": "6e6991ff",
   "metadata": {},
   "outputs": [],
   "source": [
    "from cProfile import label\n",
    "from tensorflow import keras\n",
    "from keras.models import load_model\n",
    "from PIL import Image, ImageOps\n",
    "import numpy as np"
   ]
  },
  {
   "cell_type": "code",
   "execution_count": 13,
   "id": "27f4e41d",
   "metadata": {},
   "outputs": [],
   "source": [
    "model = keras.models.load_model('keras_model.h5', compile= False)"
   ]
  },
  {
   "cell_type": "code",
   "execution_count": 6,
   "id": "4b459e10",
   "metadata": {},
   "outputs": [
    {
     "name": "stdout",
     "output_type": "stream",
     "text": [
      "hello\n"
     ]
    }
   ],
   "source": [
    "data = np.ndarray(shape=(1, 224, 224, 3), dtype=np.float32)\n",
    "    # Replace this with the path to your image\n",
    "image = Image.open('lung.jpg')\n",
    "    #resize the image to a 224x224 with the same strategy as in TM2:\n",
    "    #resizing the image to be at least 224x224 and then cropping from the center\n",
    "size = (224, 224)\n",
    "image = ImageOps.fit(image, size, Image.ANTIALIAS)\n",
    "print(image)\n",
    "\n",
    "    #turn the image into a numpy array\n",
    "image_array = np.asarray(image)\n",
    "\n",
    "    # Normalize the image\n",
    "normalized_image_array = (image_array.astype(np.float32) / 127.0) - 1\n",
    "    # Load the image into the array\n",
    "data[0] = normalized_image_array\n",
    "\n",
    "    # run the inference\n",
    "prediction = model.predict(data)\n",
    "\n",
    "max = 0\n",
    "\n",
    "for i in range(len(prediction[0])):\n",
    "    if prediction[0][i] > prediction[0][max]:\n",
    "        max = i\n",
    "\n",
    "labels = open('labels.txt', 'r')\n",
    "l = labels.read()\n",
    "\n",
    "temp = list(l.split('\\n'))\n",
    "\n",
    "for i in range(len(temp)-1):\n",
    "    k = list(temp[i].split(' '))\n",
    "\n",
    "    temp[i] = k\n",
    "\n",
    "temp.pop()\n",
    "\n",
    "\n",
    "pred = {}\n",
    "for i in range(len(temp)):\n",
    "    a = int(temp[i][0])\n",
    "    pred[a] = \" \".join(temp[i][1:])\n",
    "\n",
    "\n",
    "\n",
    "model_label = {}\n",
    "model_label['label'] = [pred[max]]"
   ]
  },
  {
   "cell_type": "code",
   "execution_count": null,
   "id": "aef5926e",
   "metadata": {},
   "outputs": [],
   "source": [
    "joblib.dump(model, \"./model.joblib\", compress=True)"
   ]
  }
 ],
 "metadata": {
  "kernelspec": {
   "display_name": "venv",
   "language": "python",
   "name": "venv"
  },
  "language_info": {
   "codemirror_mode": {
    "name": "ipython",
    "version": 3
   },
   "file_extension": ".py",
   "mimetype": "text/x-python",
   "name": "python",
   "nbconvert_exporter": "python",
   "pygments_lexer": "ipython3",
   "version": "3.10.1"
  }
 },
 "nbformat": 4,
 "nbformat_minor": 5
}
